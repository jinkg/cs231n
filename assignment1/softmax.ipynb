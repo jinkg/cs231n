{
 "cells": [
  {
   "cell_type": "markdown",
   "metadata": {},
   "source": [
    "# Softmax exercise\n",
    "\n",
    "*Complete and hand in this completed worksheet (including its outputs and any supporting code outside of the worksheet) with your assignment submission. For more details see the [assignments page](http://vision.stanford.edu/teaching/cs231n/assignments.html) on the course website.*\n",
    "\n",
    "This exercise is analogous to the SVM exercise. You will:\n",
    "\n",
    "- implement a fully-vectorized **loss function** for the Softmax classifier\n",
    "- implement the fully-vectorized expression for its **analytic gradient**\n",
    "- **check your implementation** with numerical gradient\n",
    "- use a validation set to **tune the learning rate and regularization** strength\n",
    "- **optimize** the loss function with **SGD**\n",
    "- **visualize** the final learned weights\n"
   ]
  },
  {
   "cell_type": "code",
   "execution_count": 1,
   "metadata": {
    "collapsed": false
   },
   "outputs": [],
   "source": [
    "import random\n",
    "import numpy as np\n",
    "from cs231n.data_utils import load_CIFAR10\n",
    "import matplotlib.pyplot as plt\n",
    "\n",
    "from __future__ import print_function\n",
    "\n",
    "%matplotlib inline\n",
    "plt.rcParams['figure.figsize'] = (10.0, 8.0) # set default size of plots\n",
    "plt.rcParams['image.interpolation'] = 'nearest'\n",
    "plt.rcParams['image.cmap'] = 'gray'\n",
    "\n",
    "# for auto-reloading extenrnal modules\n",
    "# see http://stackoverflow.com/questions/1907993/autoreload-of-modules-in-ipython\n",
    "%load_ext autoreload\n",
    "%autoreload 2"
   ]
  },
  {
   "cell_type": "code",
   "execution_count": 2,
   "metadata": {
    "collapsed": false
   },
   "outputs": [
    {
     "name": "stdout",
     "output_type": "stream",
     "text": [
      "Train data shape:  (49000, 3073)\n",
      "Train labels shape:  (49000,)\n",
      "Validation data shape:  (1000, 3073)\n",
      "Validation labels shape:  (1000,)\n",
      "Test data shape:  (1000, 3073)\n",
      "Test labels shape:  (1000,)\n",
      "dev data shape:  (500, 3073)\n",
      "dev labels shape:  (500,)\n"
     ]
    }
   ],
   "source": [
    "def get_CIFAR10_data(num_training=49000, num_validation=1000, num_test=1000, num_dev=500):\n",
    "    \"\"\"\n",
    "    Load the CIFAR-10 dataset from disk and perform preprocessing to prepare\n",
    "    it for the linear classifier. These are the same steps as we used for the\n",
    "    SVM, but condensed to a single function.  \n",
    "    \"\"\"\n",
    "    # Load the raw CIFAR-10 data\n",
    "    cifar10_dir = 'cs231n/datasets/cifar-10-batches-py'\n",
    "    X_train, y_train, X_test, y_test = load_CIFAR10(cifar10_dir)\n",
    "    \n",
    "    # subsample the data\n",
    "    mask = list(range(num_training, num_training + num_validation))\n",
    "    X_val = X_train[mask]\n",
    "    y_val = y_train[mask]\n",
    "    mask = list(range(num_training))\n",
    "    X_train = X_train[mask]\n",
    "    y_train = y_train[mask]\n",
    "    mask = list(range(num_test))\n",
    "    X_test = X_test[mask]\n",
    "    y_test = y_test[mask]\n",
    "    mask = np.random.choice(num_training, num_dev, replace=False)\n",
    "    X_dev = X_train[mask]\n",
    "    y_dev = y_train[mask]\n",
    "    \n",
    "    # Preprocessing: reshape the image data into rows\n",
    "    X_train = np.reshape(X_train, (X_train.shape[0], -1))\n",
    "    X_val = np.reshape(X_val, (X_val.shape[0], -1))\n",
    "    X_test = np.reshape(X_test, (X_test.shape[0], -1))\n",
    "    X_dev = np.reshape(X_dev, (X_dev.shape[0], -1))\n",
    "    \n",
    "    # Normalize the data: subtract the mean image\n",
    "    mean_image = np.mean(X_train, axis = 0)\n",
    "    X_train -= mean_image\n",
    "    X_val -= mean_image\n",
    "    X_test -= mean_image\n",
    "    X_dev -= mean_image\n",
    "    \n",
    "    # add bias dimension and transform into columns\n",
    "    X_train = np.hstack([X_train, np.ones((X_train.shape[0], 1))])\n",
    "    X_val = np.hstack([X_val, np.ones((X_val.shape[0], 1))])\n",
    "    X_test = np.hstack([X_test, np.ones((X_test.shape[0], 1))])\n",
    "    X_dev = np.hstack([X_dev, np.ones((X_dev.shape[0], 1))])\n",
    "    \n",
    "    return X_train, y_train, X_val, y_val, X_test, y_test, X_dev, y_dev\n",
    "\n",
    "\n",
    "# Invoke the above function to get our data.\n",
    "X_train, y_train, X_val, y_val, X_test, y_test, X_dev, y_dev = get_CIFAR10_data()\n",
    "print('Train data shape: ', X_train.shape)\n",
    "print('Train labels shape: ', y_train.shape)\n",
    "print('Validation data shape: ', X_val.shape)\n",
    "print('Validation labels shape: ', y_val.shape)\n",
    "print('Test data shape: ', X_test.shape)\n",
    "print('Test labels shape: ', y_test.shape)\n",
    "print('dev data shape: ', X_dev.shape)\n",
    "print('dev labels shape: ', y_dev.shape)"
   ]
  },
  {
   "cell_type": "markdown",
   "metadata": {},
   "source": [
    "## Softmax Classifier\n",
    "\n",
    "Your code for this section will all be written inside **cs231n/classifiers/softmax.py**. \n"
   ]
  },
  {
   "cell_type": "code",
   "execution_count": 4,
   "metadata": {
    "collapsed": false
   },
   "outputs": [
    {
     "name": "stdout",
     "output_type": "stream",
     "text": [
      "loss: 2.371759\n",
      "sanity check: 2.302585\n"
     ]
    }
   ],
   "source": [
    "# First implement the naive softmax loss function with nested loops.\n",
    "# Open the file cs231n/classifiers/softmax.py and implement the\n",
    "# softmax_loss_naive function.\n",
    "\n",
    "from cs231n.classifiers.softmax import softmax_loss_naive\n",
    "import time\n",
    "\n",
    "# Generate a random softmax weight matrix and use it to compute the loss.\n",
    "W = np.random.randn(3073, 10) * 0.0001\n",
    "loss, grad = softmax_loss_naive(W, X_dev, y_dev, 0.0)\n",
    "\n",
    "# As a rough sanity check, our loss should be something close to -log(0.1).\n",
    "print('loss: %f' % loss)\n",
    "print('sanity check: %f' % (-np.log(0.1)))"
   ]
  },
  {
   "cell_type": "markdown",
   "metadata": {},
   "source": [
    "## Inline Question 1:\n",
    "Why do we expect our loss to be close to -log(0.1)? Explain briefly.**\n",
    "\n",
    "**Your answer:** *Fill this in*\n"
   ]
  },
  {
   "cell_type": "code",
   "execution_count": 5,
   "metadata": {
    "collapsed": false
   },
   "outputs": [
    {
     "name": "stdout",
     "output_type": "stream",
     "text": [
      "numerical: 2.562696 analytic: 2.562696, relative error: 2.581595e-08\n",
      "numerical: 0.423217 analytic: 0.423217, relative error: 1.423972e-07\n",
      "numerical: 1.538454 analytic: 1.538454, relative error: 6.127570e-08\n",
      "numerical: 2.640070 analytic: 2.640070, relative error: 3.409809e-08\n",
      "numerical: -0.717837 analytic: -0.717837, relative error: 2.819196e-09\n",
      "numerical: -1.374391 analytic: -1.374391, relative error: 1.846226e-08\n",
      "numerical: 0.329240 analytic: 0.329240, relative error: 4.044697e-08\n",
      "numerical: 1.910287 analytic: 1.910287, relative error: 1.980884e-09\n",
      "numerical: -0.988381 analytic: -0.988381, relative error: 6.038659e-08\n",
      "numerical: 1.722739 analytic: 1.722739, relative error: 1.282661e-08\n",
      "numerical: 0.268138 analytic: 0.268285, relative error: 2.742111e-04\n",
      "numerical: 0.310307 analytic: 0.310975, relative error: 1.074275e-03\n",
      "numerical: -7.130431 analytic: -7.132166, relative error: 1.216510e-04\n",
      "numerical: -0.626191 analytic: -0.617087, relative error: 7.323350e-03\n",
      "numerical: -2.052881 analytic: -2.050003, relative error: 7.014783e-04\n",
      "numerical: 0.016359 analytic: 0.019661, relative error: 9.168191e-02\n",
      "numerical: -1.209215 analytic: -1.203822, relative error: 2.235072e-03\n",
      "numerical: 1.543511 analytic: 1.542800, relative error: 2.305877e-04\n",
      "numerical: -0.691535 analytic: -0.693806, relative error: 1.638934e-03\n",
      "numerical: 0.278953 analytic: 0.282083, relative error: 5.580123e-03\n"
     ]
    }
   ],
   "source": [
    "# Complete the implementation of softmax_loss_naive and implement a (naive)\n",
    "# version of the gradient that uses nested loops.\n",
    "loss, grad = softmax_loss_naive(W, X_dev, y_dev, 0.0)\n",
    "\n",
    "# As we did for the SVM, use numeric gradient checking as a debugging tool.\n",
    "# The numeric gradient should be close to the analytic gradient.\n",
    "from cs231n.gradient_check import grad_check_sparse\n",
    "f = lambda w: softmax_loss_naive(w, X_dev, y_dev, 0.0)[0]\n",
    "grad_numerical = grad_check_sparse(f, W, grad, 10)\n",
    "\n",
    "# similar to SVM case, do another gradient check with regularization\n",
    "loss, grad = softmax_loss_naive(W, X_dev, y_dev, 5e1)\n",
    "f = lambda w: softmax_loss_naive(w, X_dev, y_dev, 5e1)[0]\n",
    "grad_numerical = grad_check_sparse(f, W, grad, 10)"
   ]
  },
  {
   "cell_type": "code",
   "execution_count": 7,
   "metadata": {
    "collapsed": false
   },
   "outputs": [
    {
     "name": "stdout",
     "output_type": "stream",
     "text": [
      "naive loss: 2.371759e+00 computed in 0.074412s\n",
      "vectorized loss: 2.371759e+00 computed in 0.009091s\n",
      "Loss difference: 0.000000\n",
      "Gradient difference: 0.000000\n"
     ]
    }
   ],
   "source": [
    "# Now that we have a naive implementation of the softmax loss function and its gradient,\n",
    "# implement a vectorized version in softmax_loss_vectorized.\n",
    "# The two versions should compute the same results, but the vectorized version should be\n",
    "# much faster.\n",
    "tic = time.time()\n",
    "loss_naive, grad_naive = softmax_loss_naive(W, X_dev, y_dev, 0.000005)\n",
    "toc = time.time()\n",
    "print('naive loss: %e computed in %fs' % (loss_naive, toc - tic))\n",
    "\n",
    "from cs231n.classifiers.softmax import softmax_loss_vectorized\n",
    "tic = time.time()\n",
    "loss_vectorized, grad_vectorized = softmax_loss_vectorized(W, X_dev, y_dev, 0.000005)\n",
    "toc = time.time()\n",
    "print('vectorized loss: %e computed in %fs' % (loss_vectorized, toc - tic))\n",
    "\n",
    "# As we did for the SVM, we use the Frobenius norm to compare the two versions\n",
    "# of the gradient.\n",
    "grad_difference = np.linalg.norm(grad_naive - grad_vectorized, ord='fro')\n",
    "print('Loss difference: %f' % np.abs(loss_naive - loss_vectorized))\n",
    "print('Gradient difference: %f' % grad_difference)"
   ]
  },
  {
   "cell_type": "code",
   "execution_count": 12,
   "metadata": {
    "collapsed": false
   },
   "outputs": [
    {
     "name": "stdout",
     "output_type": "stream",
     "text": [
      "iteration 0 / 3000: loss 779.817931\n",
      "iteration 100 / 3000: loss 471.424182\n",
      "iteration 200 / 3000: loss 286.105603\n",
      "iteration 300 / 3000: loss 173.850648\n",
      "iteration 400 / 3000: loss 105.946136\n",
      "iteration 500 / 3000: loss 64.875207\n",
      "iteration 600 / 3000: loss 40.061442\n",
      "iteration 700 / 3000: loss 25.060300\n",
      "iteration 800 / 3000: loss 16.003321\n",
      "iteration 900 / 3000: loss 10.491231\n",
      "iteration 1000 / 3000: loss 7.240294\n",
      "iteration 1100 / 3000: loss 5.211722\n",
      "iteration 1200 / 3000: loss 4.007488\n",
      "iteration 1300 / 3000: loss 3.203604\n",
      "iteration 1400 / 3000: loss 2.813108\n",
      "iteration 1500 / 3000: loss 2.574198\n",
      "iteration 1600 / 3000: loss 2.358391\n",
      "iteration 1700 / 3000: loss 2.254166\n",
      "iteration 1800 / 3000: loss 2.217585\n",
      "iteration 1900 / 3000: loss 2.132128\n",
      "iteration 2000 / 3000: loss 2.160574\n",
      "iteration 2100 / 3000: loss 2.172249\n",
      "iteration 2200 / 3000: loss 2.115120\n",
      "iteration 2300 / 3000: loss 2.060347\n",
      "iteration 2400 / 3000: loss 2.111415\n",
      "iteration 2500 / 3000: loss 2.188453\n",
      "iteration 2600 / 3000: loss 2.141457\n",
      "iteration 2700 / 3000: loss 2.115377\n",
      "iteration 2800 / 3000: loss 2.175425\n",
      "iteration 2900 / 3000: loss 2.177157\n",
      "iteration 0 / 3000: loss 1545.239427\n",
      "iteration 100 / 3000: loss 566.510427\n",
      "iteration 200 / 3000: loss 208.808705\n",
      "iteration 300 / 3000: loss 77.848529\n",
      "iteration 400 / 3000: loss 29.809891\n",
      "iteration 500 / 3000: loss 12.275881\n",
      "iteration 600 / 3000: loss 5.862792\n",
      "iteration 700 / 3000: loss 3.508608\n",
      "iteration 800 / 3000: loss 2.651114\n",
      "iteration 900 / 3000: loss 2.351829\n",
      "iteration 1000 / 3000: loss 2.292169\n",
      "iteration 1100 / 3000: loss 2.191137\n",
      "iteration 1200 / 3000: loss 2.189864\n",
      "iteration 1300 / 3000: loss 2.129256\n",
      "iteration 1400 / 3000: loss 2.172747\n",
      "iteration 1500 / 3000: loss 2.161236\n",
      "iteration 1600 / 3000: loss 2.212935\n",
      "iteration 1700 / 3000: loss 2.125303\n",
      "iteration 1800 / 3000: loss 2.137998\n",
      "iteration 1900 / 3000: loss 2.189413\n",
      "iteration 2000 / 3000: loss 2.221489\n",
      "iteration 2100 / 3000: loss 2.182839\n",
      "iteration 2200 / 3000: loss 2.163747\n",
      "iteration 2300 / 3000: loss 2.177330\n",
      "iteration 2400 / 3000: loss 2.161692\n",
      "iteration 2500 / 3000: loss 2.205716\n",
      "iteration 2600 / 3000: loss 2.179510\n",
      "iteration 2700 / 3000: loss 2.181956\n",
      "iteration 2800 / 3000: loss 2.169940\n",
      "iteration 2900 / 3000: loss 2.168395\n",
      "iteration 0 / 3000: loss 766.207764\n",
      "iteration 100 / 3000: loss 62.885261\n",
      "iteration 200 / 3000: loss 6.955635\n",
      "iteration 300 / 3000: loss 2.506224\n",
      "iteration 400 / 3000: loss 2.239065\n",
      "iteration 500 / 3000: loss 2.093290\n",
      "iteration 600 / 3000: loss 2.046673\n",
      "iteration 700 / 3000: loss 2.071647\n",
      "iteration 800 / 3000: loss 2.202878\n",
      "iteration 900 / 3000: loss 2.151949\n",
      "iteration 1000 / 3000: loss 2.085961\n",
      "iteration 1100 / 3000: loss 2.055519\n",
      "iteration 1200 / 3000: loss 2.183278\n",
      "iteration 1300 / 3000: loss 2.196793\n",
      "iteration 1400 / 3000: loss 2.025629\n",
      "iteration 1500 / 3000: loss 2.145844\n",
      "iteration 1600 / 3000: loss 2.107476\n",
      "iteration 1700 / 3000: loss 2.113843\n",
      "iteration 1800 / 3000: loss 2.107288\n",
      "iteration 1900 / 3000: loss 2.118952\n",
      "iteration 2000 / 3000: loss 2.178940\n",
      "iteration 2100 / 3000: loss 2.133890\n",
      "iteration 2200 / 3000: loss 2.171979\n",
      "iteration 2300 / 3000: loss 2.098762\n",
      "iteration 2400 / 3000: loss 2.128780\n",
      "iteration 2500 / 3000: loss 2.076519\n",
      "iteration 2600 / 3000: loss 2.241177\n",
      "iteration 2700 / 3000: loss 2.127942\n",
      "iteration 2800 / 3000: loss 2.158517\n",
      "iteration 2900 / 3000: loss 2.074830\n",
      "iteration 0 / 3000: loss 1534.662571\n",
      "iteration 100 / 3000: loss 11.767281\n",
      "iteration 200 / 3000: loss 2.199727\n",
      "iteration 300 / 3000: loss 2.278612\n",
      "iteration 400 / 3000: loss 2.241786\n",
      "iteration 500 / 3000: loss 2.166764\n",
      "iteration 600 / 3000: loss 2.198419\n",
      "iteration 700 / 3000: loss 2.146372\n",
      "iteration 800 / 3000: loss 2.161614\n",
      "iteration 900 / 3000: loss 2.102830\n",
      "iteration 1000 / 3000: loss 2.173035\n",
      "iteration 1100 / 3000: loss 2.199045\n",
      "iteration 1200 / 3000: loss 2.220237\n",
      "iteration 1300 / 3000: loss 2.172432\n",
      "iteration 1400 / 3000: loss 2.147798\n",
      "iteration 1500 / 3000: loss 2.200398\n",
      "iteration 1600 / 3000: loss 2.151207\n",
      "iteration 1700 / 3000: loss 2.157061\n",
      "iteration 1800 / 3000: loss 2.121060\n",
      "iteration 1900 / 3000: loss 2.142714\n",
      "iteration 2000 / 3000: loss 2.186806\n",
      "iteration 2100 / 3000: loss 2.159697\n",
      "iteration 2200 / 3000: loss 2.172669\n",
      "iteration 2300 / 3000: loss 2.087683\n",
      "iteration 2400 / 3000: loss 2.151472\n",
      "iteration 2500 / 3000: loss 2.178332\n",
      "iteration 2600 / 3000: loss 2.192306\n",
      "iteration 2700 / 3000: loss 2.209578\n",
      "iteration 2800 / 3000: loss 2.146582\n",
      "iteration 2900 / 3000: loss 2.234872\n",
      "lr 1.000000e-07 reg 2.500000e+04 train accuracy: 0.349694 val accuracy: 0.366000\n",
      "lr 1.000000e-07 reg 5.000000e+04 train accuracy: 0.331551 val accuracy: 0.348000\n",
      "lr 5.000000e-07 reg 2.500000e+04 train accuracy: 0.348367 val accuracy: 0.364000\n",
      "lr 5.000000e-07 reg 5.000000e+04 train accuracy: 0.336061 val accuracy: 0.348000\n",
      "best validation accuracy achieved during cross-validation: 0.366000\n"
     ]
    }
   ],
   "source": [
    "# Use the validation set to tune hyperparameters (regularization strength and\n",
    "# learning rate). You should experiment with different ranges for the learning\n",
    "# rates and regularization strengths; if you are careful you should be able to\n",
    "# get a classification accuracy of over 0.35 on the validation set.\n",
    "from cs231n.classifiers import Softmax\n",
    "results = {}\n",
    "best_val = -1\n",
    "best_softmax = None\n",
    "learning_rates = [1e-7, 5e-7]\n",
    "regularization_strengths = [2.5e4, 5e4]\n",
    "\n",
    "################################################################################\n",
    "# TODO:                                                                        #\n",
    "# Use the validation set to set the learning rate and regularization strength. #\n",
    "# This should be identical to the validation that you did for the SVM; save    #\n",
    "# the best trained softmax classifer in best_softmax.                          #\n",
    "################################################################################\n",
    "for lr in learning_rates:\n",
    "    for rs in regularization_strengths:\n",
    "        softmax = Softmax()\n",
    "        loss = softmax.train(X_train, y_train, learning_rate=lr, reg=rs, \n",
    "                  num_iters=3000, verbose=True)\n",
    "        y_train_pred = softmax.predict(X_train)\n",
    "        y_val_pred = softmax.predict(X_val)\n",
    "        train_accuracy = np.mean(y_train == y_train_pred)\n",
    "        val_accuracy = np.mean(y_val == y_val_pred)\n",
    "        results[(lr, rs)] = train_accuracy, val_accuracy\n",
    "        if val_accuracy > best_val:\n",
    "            best_val = val_accuracy\n",
    "            best_softmax = softmax\n",
    "        \n",
    "################################################################################\n",
    "#                              END OF YOUR CODE                                #\n",
    "################################################################################\n",
    "    \n",
    "# Print out results.\n",
    "for lr, reg in sorted(results):\n",
    "    train_accuracy, val_accuracy = results[(lr, reg)]\n",
    "    print('lr %e reg %e train accuracy: %f val accuracy: %f' % (\n",
    "                lr, reg, train_accuracy, val_accuracy))\n",
    "    \n",
    "print('best validation accuracy achieved during cross-validation: %f' % best_val)"
   ]
  },
  {
   "cell_type": "code",
   "execution_count": 13,
   "metadata": {
    "collapsed": false
   },
   "outputs": [
    {
     "name": "stdout",
     "output_type": "stream",
     "text": [
      "softmax on raw pixels final test set accuracy: 0.357000\n"
     ]
    }
   ],
   "source": [
    "# evaluate on test set\n",
    "# Evaluate the best softmax on test set\n",
    "y_test_pred = best_softmax.predict(X_test)\n",
    "test_accuracy = np.mean(y_test == y_test_pred)\n",
    "print('softmax on raw pixels final test set accuracy: %f' % (test_accuracy, ))"
   ]
  },
  {
   "cell_type": "code",
   "execution_count": 14,
   "metadata": {
    "collapsed": false
   },
   "outputs": [
    {
     "data": {
      "image/png": "[encoded data removed]",
      "text/plain": [
       "<matplotlib.figure.Figure at 0x7f5cbdb845c0>"
      ]
     },
     "metadata": {},
     "output_type": "display_data"
    }
   ],
   "source": [
    "# Visualize the learned weights for each class\n",
    "w = best_softmax.W[:-1,:] # strip out the bias\n",
    "w = w.reshape(32, 32, 3, 10)\n",
    "\n",
    "w_min, w_max = np.min(w), np.max(w)\n",
    "\n",
    "classes = ['plane', 'car', 'bird', 'cat', 'deer', 'dog', 'frog', 'horse', 'ship', 'truck']\n",
    "for i in range(10):\n",
    "    plt.subplot(2, 5, i + 1)\n",
    "    \n",
    "    # Rescale the weights to be between 0 and 255\n",
    "    wimg = 255.0 * (w[:, :, :, i].squeeze() - w_min) / (w_max - w_min)\n",
    "    plt.imshow(wimg.astype('uint8'))\n",
    "    plt.axis('off')\n",
    "    plt.title(classes[i])"
   ]
  },
  {
   "cell_type": "code",
   "execution_count": null,
   "metadata": {
    "collapsed": true
   },
   "outputs": [],
   "source": []
  }
 ],
 "metadata": {
  "kernelspec": {
   "display_name": "Python 3",
   "language": "python",
   "name": "python3"
  },
  "language_info": {
   "codemirror_mode": {
    "name": "ipython",
    "version": 3
   },
   "file_extension": ".py",
   "mimetype": "text/x-python",
   "name": "python",
   "nbconvert_exporter": "python",
   "pygments_lexer": "ipython3",
   "version": "3.5.1"
  }
 },
 "nbformat": 4,
 "nbformat_minor": 0
}
